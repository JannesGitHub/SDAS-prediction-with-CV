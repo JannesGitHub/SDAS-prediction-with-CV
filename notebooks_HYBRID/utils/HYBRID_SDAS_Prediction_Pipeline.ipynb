{
 "cells": [
  {
   "cell_type": "markdown",
   "metadata": {
    "id": "7t8u3a84GHHj"
   },
   "source": [
    "# visual SDAS-Calculator"
   ]
  },
  {
   "cell_type": "code",
   "execution_count": 1,
   "metadata": {
    "scrolled": true
   },
   "outputs": [
    {
     "name": "stdout",
     "output_type": "stream",
     "text": [
      "Collecting numpy==1.26.4\n",
      "  Using cached numpy-1.26.4-cp312-cp312-win_amd64.whl.metadata (61 kB)\n",
      "Collecting matplotlib\n",
      "  Using cached matplotlib-3.10.1-cp312-cp312-win_amd64.whl.metadata (11 kB)\n",
      "Collecting scikit-learn\n",
      "  Using cached scikit_learn-1.6.1-cp312-cp312-win_amd64.whl.metadata (15 kB)\n",
      "Collecting contourpy>=1.0.1 (from matplotlib)\n",
      "  Using cached contourpy-1.3.1-cp312-cp312-win_amd64.whl.metadata (5.4 kB)\n",
      "Collecting cycler>=0.10 (from matplotlib)\n",
      "  Using cached cycler-0.12.1-py3-none-any.whl.metadata (3.8 kB)\n",
      "Collecting fonttools>=4.22.0 (from matplotlib)\n",
      "  Using cached fonttools-4.57.0-cp312-cp312-win_amd64.whl.metadata (104 kB)\n",
      "Collecting kiwisolver>=1.3.1 (from matplotlib)\n",
      "  Using cached kiwisolver-1.4.8-cp312-cp312-win_amd64.whl.metadata (6.3 kB)\n",
      "Collecting packaging>=20.0 (from matplotlib)\n",
      "  Using cached packaging-24.2-py3-none-any.whl.metadata (3.2 kB)\n",
      "Collecting pillow>=8 (from matplotlib)\n",
      "  Using cached pillow-11.1.0-cp312-cp312-win_amd64.whl.metadata (9.3 kB)\n",
      "Collecting pyparsing>=2.3.1 (from matplotlib)\n",
      "  Using cached pyparsing-3.2.3-py3-none-any.whl.metadata (5.0 kB)\n",
      "Collecting python-dateutil>=2.7 (from matplotlib)\n",
      "  Using cached python_dateutil-2.9.0.post0-py2.py3-none-any.whl.metadata (8.4 kB)\n",
      "Collecting scipy>=1.6.0 (from scikit-learn)\n",
      "  Using cached scipy-1.15.2-cp312-cp312-win_amd64.whl.metadata (60 kB)\n",
      "Collecting joblib>=1.2.0 (from scikit-learn)\n",
      "  Using cached joblib-1.4.2-py3-none-any.whl.metadata (5.4 kB)\n",
      "Collecting threadpoolctl>=3.1.0 (from scikit-learn)\n",
      "  Using cached threadpoolctl-3.6.0-py3-none-any.whl.metadata (13 kB)\n",
      "Collecting six>=1.5 (from python-dateutil>=2.7->matplotlib)\n",
      "  Using cached six-1.17.0-py2.py3-none-any.whl.metadata (1.7 kB)\n",
      "Using cached numpy-1.26.4-cp312-cp312-win_amd64.whl (15.5 MB)\n",
      "Using cached matplotlib-3.10.1-cp312-cp312-win_amd64.whl (8.1 MB)\n",
      "Using cached scikit_learn-1.6.1-cp312-cp312-win_amd64.whl (11.1 MB)\n",
      "Using cached contourpy-1.3.1-cp312-cp312-win_amd64.whl (220 kB)\n",
      "Using cached cycler-0.12.1-py3-none-any.whl (8.3 kB)\n",
      "Using cached fonttools-4.57.0-cp312-cp312-win_amd64.whl (2.2 MB)\n",
      "Using cached joblib-1.4.2-py3-none-any.whl (301 kB)\n",
      "Using cached kiwisolver-1.4.8-cp312-cp312-win_amd64.whl (71 kB)\n",
      "Using cached packaging-24.2-py3-none-any.whl (65 kB)\n",
      "Using cached pillow-11.1.0-cp312-cp312-win_amd64.whl (2.6 MB)\n",
      "Using cached pyparsing-3.2.3-py3-none-any.whl (111 kB)\n",
      "Using cached python_dateutil-2.9.0.post0-py2.py3-none-any.whl (229 kB)\n",
      "Using cached scipy-1.15.2-cp312-cp312-win_amd64.whl (40.9 MB)\n",
      "Using cached threadpoolctl-3.6.0-py3-none-any.whl (18 kB)\n",
      "Using cached six-1.17.0-py2.py3-none-any.whl (11 kB)\n",
      "Installing collected packages: threadpoolctl, six, pyparsing, pillow, packaging, numpy, kiwisolver, joblib, fonttools, cycler, scipy, python-dateutil, contourpy, scikit-learn, matplotlib\n",
      "  Attempting uninstall: threadpoolctl\n",
      "    Found existing installation: threadpoolctl 3.6.0\n",
      "    Uninstalling threadpoolctl-3.6.0:\n",
      "      Successfully uninstalled threadpoolctl-3.6.0\n",
      "  Attempting uninstall: six\n",
      "    Found existing installation: six 1.17.0\n",
      "    Uninstalling six-1.17.0:\n",
      "      Successfully uninstalled six-1.17.0\n",
      "  Attempting uninstall: pyparsing\n",
      "    Found existing installation: pyparsing 3.2.3\n",
      "    Uninstalling pyparsing-3.2.3:\n",
      "      Successfully uninstalled pyparsing-3.2.3\n",
      "  Attempting uninstall: pillow\n",
      "    Found existing installation: pillow 11.1.0\n",
      "    Uninstalling pillow-11.1.0:\n",
      "      Successfully uninstalled pillow-11.1.0\n",
      "  Attempting uninstall: packaging\n",
      "    Found existing installation: packaging 24.2\n",
      "    Uninstalling packaging-24.2:\n",
      "      Successfully uninstalled packaging-24.2\n",
      "  Attempting uninstall: numpy\n",
      "    Found existing installation: numpy 1.26.4\n",
      "    Uninstalling numpy-1.26.4:\n",
      "      Successfully uninstalled numpy-1.26.4\n",
      "  Attempting uninstall: kiwisolver\n",
      "    Found existing installation: kiwisolver 1.4.8\n",
      "    Uninstalling kiwisolver-1.4.8:\n",
      "      Successfully uninstalled kiwisolver-1.4.8\n",
      "  Attempting uninstall: joblib\n",
      "    Found existing installation: joblib 1.4.2\n",
      "    Uninstalling joblib-1.4.2:\n",
      "      Successfully uninstalled joblib-1.4.2\n",
      "  Attempting uninstall: fonttools\n",
      "    Found existing installation: fonttools 4.57.0\n",
      "    Uninstalling fonttools-4.57.0:\n",
      "      Successfully uninstalled fonttools-4.57.0\n",
      "  Attempting uninstall: cycler\n",
      "    Found existing installation: cycler 0.12.1\n",
      "    Uninstalling cycler-0.12.1:\n",
      "      Successfully uninstalled cycler-0.12.1\n",
      "  Attempting uninstall: scipy\n",
      "    Found existing installation: scipy 1.15.2\n",
      "    Uninstalling scipy-1.15.2:\n",
      "      Successfully uninstalled scipy-1.15.2\n",
      "  Attempting uninstall: python-dateutil\n",
      "    Found existing installation: python-dateutil 2.9.0.post0\n",
      "    Uninstalling python-dateutil-2.9.0.post0:\n",
      "      Successfully uninstalled python-dateutil-2.9.0.post0\n",
      "  Attempting uninstall: contourpy\n",
      "    Found existing installation: contourpy 1.3.1\n",
      "    Uninstalling contourpy-1.3.1:\n",
      "      Successfully uninstalled contourpy-1.3.1\n",
      "  Attempting uninstall: scikit-learn\n",
      "    Found existing installation: scikit-learn 1.6.1\n",
      "    Uninstalling scikit-learn-1.6.1:\n",
      "      Successfully uninstalled scikit-learn-1.6.1\n",
      "  Attempting uninstall: matplotlib\n",
      "    Found existing installation: matplotlib 3.10.1\n",
      "    Uninstalling matplotlib-3.10.1:\n",
      "      Successfully uninstalled matplotlib-3.10.1\n",
      "Successfully installed contourpy-1.3.1 cycler-0.12.1 fonttools-4.57.0 joblib-1.4.2 kiwisolver-1.4.8 matplotlib-3.10.1 numpy-1.26.4 packaging-24.2 pillow-11.1.0 pyparsing-3.2.3 python-dateutil-2.9.0.post0 scikit-learn-1.6.1 scipy-1.15.2 six-1.17.0 threadpoolctl-3.6.0\n"
     ]
    },
    {
     "name": "stderr",
     "output_type": "stream",
     "text": [
      "WARNING: Ignoring invalid distribution ~cipy (C:\\Users\\Kleinau\\AppData\\Local\\anaconda3\\envs\\hybrid_env\\Lib\\site-packages)\n",
      "WARNING: Ignoring invalid distribution ~cipy (C:\\Users\\Kleinau\\AppData\\Local\\anaconda3\\envs\\hybrid_env\\Lib\\site-packages)\n",
      "WARNING: Ignoring invalid distribution ~cipy (C:\\Users\\Kleinau\\AppData\\Local\\anaconda3\\envs\\hybrid_env\\Lib\\site-packages)\n",
      "ERROR: pip's dependency resolver does not currently take into account all the packages that are installed. This behaviour is the source of the following dependency conflicts.\n",
      "jax 0.5.0 requires ml_dtypes>=0.4.0, which is not installed.\n",
      "jax 0.5.0 requires opt_einsum, which is not installed.\n",
      "jaxlib 0.5.0 requires ml-dtypes>=0.2.0, which is not installed.\n",
      "mediapipe 0.10.21 requires absl-py, which is not installed.\n",
      "mediapipe 0.10.21 requires flatbuffers>=2.0, which is not installed.\n",
      "mediapipe 0.10.21 requires protobuf<5,>=4.25.3, which is not installed.\n",
      "mediapipe 0.10.21 requires sentencepiece, which is not installed.\n"
     ]
    }
   ],
   "source": [
    "!pip install --force-reinstall numpy==1.26.4 matplotlib scikit-learn"
   ]
  },
  {
   "cell_type": "code",
   "execution_count": 2,
   "metadata": {},
   "outputs": [
    {
     "name": "stdout",
     "output_type": "stream",
     "text": [
      "Requirement already satisfied: cellpose in c:\\users\\kleinau\\appdata\\local\\anaconda3\\envs\\hybrid_env\\lib\\site-packages (3.1.1.1)\n",
      "Requirement already satisfied: numpy<2.1,>=1.20.0 in c:\\users\\kleinau\\appdata\\local\\anaconda3\\envs\\hybrid_env\\lib\\site-packages (from cellpose) (1.26.4)\n",
      "Requirement already satisfied: scipy in c:\\users\\kleinau\\appdata\\local\\anaconda3\\envs\\hybrid_env\\lib\\site-packages (from cellpose) (1.15.2)\n",
      "Requirement already satisfied: natsort in c:\\users\\kleinau\\appdata\\local\\anaconda3\\envs\\hybrid_env\\lib\\site-packages (from cellpose) (8.4.0)\n",
      "Requirement already satisfied: tifffile in c:\\users\\kleinau\\appdata\\local\\anaconda3\\envs\\hybrid_env\\lib\\site-packages (from cellpose) (2025.3.30)\n",
      "Requirement already satisfied: tqdm in c:\\users\\kleinau\\appdata\\local\\anaconda3\\envs\\hybrid_env\\lib\\site-packages (from cellpose) (4.67.1)\n",
      "Requirement already satisfied: numba>=0.53.0 in c:\\users\\kleinau\\appdata\\local\\anaconda3\\envs\\hybrid_env\\lib\\site-packages (from cellpose) (0.61.0)\n",
      "Requirement already satisfied: llvmlite in c:\\users\\kleinau\\appdata\\local\\anaconda3\\envs\\hybrid_env\\lib\\site-packages (from cellpose) (0.44.0)\n",
      "Requirement already satisfied: torch>=1.6 in c:\\users\\kleinau\\appdata\\local\\anaconda3\\envs\\hybrid_env\\lib\\site-packages (from cellpose) (2.2.1+cu121)\n",
      "Requirement already satisfied: opencv-python-headless in c:\\users\\kleinau\\appdata\\local\\anaconda3\\envs\\hybrid_env\\lib\\site-packages (from cellpose) (4.11.0.86)\n",
      "Requirement already satisfied: fastremap in c:\\users\\kleinau\\appdata\\local\\anaconda3\\envs\\hybrid_env\\lib\\site-packages (from cellpose) (1.15.1)\n",
      "Requirement already satisfied: imagecodecs in c:\\users\\kleinau\\appdata\\local\\anaconda3\\envs\\hybrid_env\\lib\\site-packages (from cellpose) (2025.3.30)\n",
      "Requirement already satisfied: roifile in c:\\users\\kleinau\\appdata\\local\\anaconda3\\envs\\hybrid_env\\lib\\site-packages (from cellpose) (2025.2.20)\n",
      "Requirement already satisfied: filelock in c:\\users\\kleinau\\appdata\\local\\anaconda3\\envs\\hybrid_env\\lib\\site-packages (from torch>=1.6->cellpose) (3.13.1)\n",
      "Requirement already satisfied: typing-extensions>=4.8.0 in c:\\users\\kleinau\\appdata\\local\\anaconda3\\envs\\hybrid_env\\lib\\site-packages (from torch>=1.6->cellpose) (4.12.2)\n",
      "Requirement already satisfied: sympy in c:\\users\\kleinau\\appdata\\local\\anaconda3\\envs\\hybrid_env\\lib\\site-packages (from torch>=1.6->cellpose) (1.13.1)\n",
      "Requirement already satisfied: networkx in c:\\users\\kleinau\\appdata\\local\\anaconda3\\envs\\hybrid_env\\lib\\site-packages (from torch>=1.6->cellpose) (3.3)\n",
      "Requirement already satisfied: jinja2 in c:\\users\\kleinau\\appdata\\local\\anaconda3\\envs\\hybrid_env\\lib\\site-packages (from torch>=1.6->cellpose) (3.1.4)\n",
      "Requirement already satisfied: fsspec in c:\\users\\kleinau\\appdata\\local\\anaconda3\\envs\\hybrid_env\\lib\\site-packages (from torch>=1.6->cellpose) (2024.6.1)\n",
      "Requirement already satisfied: colorama in c:\\users\\kleinau\\appdata\\local\\anaconda3\\envs\\hybrid_env\\lib\\site-packages (from tqdm->cellpose) (0.4.6)\n",
      "Requirement already satisfied: MarkupSafe>=2.0 in c:\\users\\kleinau\\appdata\\local\\anaconda3\\envs\\hybrid_env\\lib\\site-packages (from jinja2->torch>=1.6->cellpose) (2.1.5)\n",
      "Requirement already satisfied: mpmath<1.4,>=1.1.0 in c:\\users\\kleinau\\appdata\\local\\anaconda3\\envs\\hybrid_env\\lib\\site-packages (from sympy->torch>=1.6->cellpose) (1.3.0)\n"
     ]
    },
    {
     "name": "stderr",
     "output_type": "stream",
     "text": [
      "WARNING: Ignoring invalid distribution ~cipy (C:\\Users\\Kleinau\\AppData\\Local\\anaconda3\\envs\\hybrid_env\\Lib\\site-packages)\n",
      "WARNING: Ignoring invalid distribution ~cipy (C:\\Users\\Kleinau\\AppData\\Local\\anaconda3\\envs\\hybrid_env\\Lib\\site-packages)\n",
      "WARNING: Ignoring invalid distribution ~cipy (C:\\Users\\Kleinau\\AppData\\Local\\anaconda3\\envs\\hybrid_env\\Lib\\site-packages)\n"
     ]
    }
   ],
   "source": [
    "!pip install cellpose"
   ]
  },
  {
   "cell_type": "code",
   "execution_count": 3,
   "metadata": {},
   "outputs": [
    {
     "name": "stderr",
     "output_type": "stream",
     "text": [
      "<string>:22: SyntaxWarning: invalid escape sequence '\\{'\n",
      "<>:22: SyntaxWarning: invalid escape sequence '\\{'\n",
      "<>:22: SyntaxWarning: invalid escape sequence '\\d'\n",
      "<string>:22: SyntaxWarning: invalid escape sequence '\\{'\n",
      "<>:22: SyntaxWarning: invalid escape sequence '\\{'\n",
      "<>:22: SyntaxWarning: invalid escape sequence '\\d'\n",
      "C:\\Users\\Kleinau\\AppData\\Local\\Temp\\ipykernel_8756\\2188718372.py:22: SyntaxWarning: invalid escape sequence '\\{'\n",
      "  test_dir = f'..\\data\\{test_dataset_version}'\n",
      "C:\\Users\\Kleinau\\AppData\\Local\\Temp\\ipykernel_8756\\2188718372.py:22: SyntaxWarning: invalid escape sequence '\\d'\n",
      "  test_dir = f'..\\data\\{test_dataset_version}'\n"
     ]
    }
   ],
   "source": [
    "# PARAMETERS:\n",
    "\n",
    "# Cellpose Parameters\n",
    "\n",
    "model_type=\"cyto2\" # can be \"cyto2\", \"cyto3\", \"nuclei\" or finetuned local model\n",
    "diameter = 85      # is the smallest possible contour diameter\n",
    "\n",
    "# Clustering Parameters\n",
    "\n",
    "MIN_POINTS_PER_LINE = 5                                         # BDG-Norm: minimal number of elements in a line\n",
    "MAX_POINTS_PER_LINE = 15                                        # maxmimum number of elements in a line\n",
    "ANGLE_DIFF_THRESHOLD = 25                                       # maximum angle difference between current line and next line \n",
    "DISTANCE_THRESHOLD = 100                                        # maximum distance between current line and next line \n",
    "REGRESSION_DISTANCE_THRESHOLD = DISTANCE_THRESHOLD/3            # maximum distance between current regression line and next line \n",
    "MAX_ANGLE_DIFF_REG_P_THRESHOLD = 65                             # minimal angle difference between current regression line and next line \n",
    "MICROMETER_PER_PIXEL = 0.728265817023213\n",
    "\n",
    "# Test Parameters\n",
    "\n",
    "test_dataset_version = \"bmw_data\" #210 images\n",
    "\n",
    "test_dir = f'..\\data\\{test_dataset_version}' "
   ]
  },
  {
   "cell_type": "markdown",
   "metadata": {
    "id": "ldyyGj1g1_cc"
   },
   "source": [
    "## Install Packages"
   ]
  },
  {
   "cell_type": "code",
   "execution_count": 4,
   "metadata": {},
   "outputs": [],
   "source": [
    "from utils.my_utils import draw_contours_with_alpha, extract_line_segments, plot_line_segments_on_image, plot_line_midpoints_with_angles, group_line_segments, print_result_lines_over_img, calculate_avg_sdas, getResults, calculateMetrics \n",
    "import os\n",
    "import numpy as np\n",
    "import math\n",
    "import cv2\n",
    "import matplotlib.pyplot as plt\n",
    "from glob import glob"
   ]
  },
  {
   "cell_type": "markdown",
   "metadata": {},
   "source": [
    "## Activate GPU for Cellpose (morgen erste Aufgabe)"
   ]
  },
  {
   "cell_type": "code",
   "execution_count": null,
   "metadata": {
    "colab": {
     "base_uri": "https://localhost:8080/"
    },
    "id": "Xm8l8pZm8ChQ",
    "outputId": "201396c7-2280-4f82-d7bd-e6d323ee932e"
   },
   "outputs": [],
   "source": [
    "!nvcc --version\n",
    "!nvidia-smi"
   ]
  },
  {
   "cell_type": "code",
   "execution_count": null,
   "metadata": {},
   "outputs": [],
   "source": [
    "!pip uninstall torch -y"
   ]
  },
  {
   "cell_type": "code",
   "execution_count": null,
   "metadata": {},
   "outputs": [],
   "source": [
    "!pip cache purge"
   ]
  },
  {
   "cell_type": "code",
   "execution_count": null,
   "metadata": {
    "scrolled": true
   },
   "outputs": [],
   "source": [
    "!pip install --force-reinstall torch==2.2.1+cu121 torchvision torchaudio --index-url https://download.pytorch.org/whl/cu121"
   ]
  },
  {
   "cell_type": "code",
   "execution_count": null,
   "metadata": {},
   "outputs": [],
   "source": [
    "import torch\n",
    "print(torch.__version__)  # sollte z. B. '2.2.1+cu121' zeigen\n",
    "print(torch.cuda.is_available())  # True\n",
    "print(torch.cuda.get_device_name(0))  # 'NVIDIA GeForce GTX 1060 6GB'"
   ]
  },
  {
   "cell_type": "code",
   "execution_count": null,
   "metadata": {
    "colab": {
     "base_uri": "https://localhost:8080/"
    },
    "id": "JW0SJbh-8t3H",
    "outputId": "1f3f2c82-dc87-4a9f-e0e5-8b2cdc4c7ea1",
    "scrolled": true
   },
   "outputs": [],
   "source": [
    "from cellpose import core, utils, io, models, metrics\n",
    "use_GPU = core.use_gpu()\n",
    "yn = ['NO', 'YES']\n",
    "print(f'>>> GPU activated? {yn[use_GPU]}')"
   ]
  },
  {
   "cell_type": "markdown",
   "metadata": {
    "id": "qPhlwAht2JlU"
   },
   "source": [
    "## Load Dendrite-Image"
   ]
  },
  {
   "cell_type": "code",
   "execution_count": null,
   "metadata": {
    "colab": {
     "base_uri": "https://localhost:8080/",
     "height": 527
    },
    "id": "b0upa3ZmAoII",
    "outputId": "a49bffbc-351b-4b73-fcd5-04b8daf266c9"
   },
   "outputs": [],
   "source": [
    "image_name = 'T6_54_B6.jpg' \n",
    "\n",
    "image_path = os.path.join(test_dir, image_name)\n",
    "\n",
    "# Load Image\n",
    "img = cv2.imread(image_path)\n",
    "\n",
    "# Show Image\n",
    "plt.figure(figsize=(18,9))\n",
    "plt.imshow(img)\n",
    "plt.axis(\"off\")\n",
    "plt.show()"
   ]
  },
  {
   "cell_type": "markdown",
   "metadata": {
    "id": "RFWMmass2O3p"
   },
   "source": [
    "## Load Cellpose model"
   ]
  },
  {
   "cell_type": "code",
   "execution_count": null,
   "metadata": {},
   "outputs": [],
   "source": [
    "pip install \"numpy<2\""
   ]
  },
  {
   "cell_type": "code",
   "execution_count": null,
   "metadata": {},
   "outputs": [],
   "source": [
    "import numpy"
   ]
  },
  {
   "cell_type": "code",
   "execution_count": null,
   "metadata": {},
   "outputs": [],
   "source": [
    "print(numpy.__version__)"
   ]
  },
  {
   "cell_type": "code",
   "execution_count": null,
   "metadata": {
    "colab": {
     "base_uri": "https://localhost:8080/"
    },
    "id": "_ihAgImfBVNz",
    "outputId": "4e7d1d80-5905-4db8-e4a8-6c8b860e4f97"
   },
   "outputs": [],
   "source": [
    "# model_type='cyto3' oder model_type='nuclei' oder eigenes Modell\n",
    "\n",
    "# https://cellpose.readthedocs.io/en/latest/models.html\n",
    "\n",
    "# model = models.CellposeModel(pretrained_model='/content/drive/My Drive/SDAS_Calculator/models/CP_20250402_145747_v1')\n",
    "\n",
    "model = models.Cellpose(gpu=True, model_type = model_type) # in jupiter Notebook geht gerade nur cyto2, scheint aber sogar besser zu sein für meinen Anwendungsfall"
   ]
  },
  {
   "cell_type": "markdown",
   "metadata": {
    "id": "4iLYLJz32Xyh"
   },
   "source": [
    "## Run model to get contours of dendrite structures"
   ]
  },
  {
   "cell_type": "code",
   "execution_count": null,
   "metadata": {
    "id": "R95kc_VSBZcq"
   },
   "outputs": [],
   "source": [
    "# for cyto3/cyto2:\n",
    "masks, flows, styles, imgs_dn = model.eval(img, diameter=diameter, channels= [0,0]) # Diameter ist entscheidend für sinnvolle Umrandunungen! -> kleinst möglicher Durchmesser der füllenden Linie\n",
    "\n",
    "# for finetuned models\n",
    "# masks, flows, styles = model.eval(img, diameter=diameter, channels= [0,0]) # Diameter ist entscheidend für sinnvolle Umrandunungen! -> kleinst möglicher Durchmesser der füllenden Linie"
   ]
  },
  {
   "cell_type": "code",
   "execution_count": null,
   "metadata": {},
   "outputs": [],
   "source": [
    "img_contours = draw_contours_with_alpha(img, masks, alpha=0.75)"
   ]
  },
  {
   "cell_type": "markdown",
   "metadata": {
    "id": "xTEPSK-02kJG"
   },
   "source": [
    "## Berechnung von längsten Linien durch die Konturen"
   ]
  },
  {
   "cell_type": "code",
   "execution_count": null,
   "metadata": {},
   "outputs": [],
   "source": [
    "line_segments = extract_line_segments(masks)"
   ]
  },
  {
   "cell_type": "code",
   "execution_count": null,
   "metadata": {},
   "outputs": [],
   "source": [
    "img_lines = plot_line_segments_on_image(img, line_segments)"
   ]
  },
  {
   "cell_type": "markdown",
   "metadata": {
    "id": "5EpjuI35290t"
   },
   "source": [
    "## Plot Diagramm mit Mittelpunkt und Winkel"
   ]
  },
  {
   "cell_type": "code",
   "execution_count": null,
   "metadata": {},
   "outputs": [],
   "source": [
    "plot_line_midpoints_with_angles(line_segments, img_lines)"
   ]
  },
  {
   "cell_type": "markdown",
   "metadata": {
    "id": "RrvB1_EX3mCW"
   },
   "source": [
    "## Clustering"
   ]
  },
  {
   "cell_type": "code",
   "execution_count": null,
   "metadata": {
    "colab": {
     "base_uri": "https://localhost:8080/"
    },
    "id": "UQskEoMROlRj",
    "outputId": "001c4e1c-4de9-4cd7-e622-9e5c120156bf"
   },
   "outputs": [],
   "source": [
    "lines = group_line_segments(line_segments, MAX_POINTS_PER_LINE, MAX_ANGLE_DIFF_REG_P_THRESHOLD,\n",
    "                         REGRESSION_DISTANCE_THRESHOLD, ANGLE_DIFF_THRESHOLD, DISTANCE_THRESHOLD,\n",
    "                         MIN_POINTS_PER_LINE, MICROMETER_PER_PIXEL)"
   ]
  },
  {
   "cell_type": "markdown",
   "metadata": {
    "id": "HoSwgwtoXz-Y"
   },
   "source": [
    "## Results"
   ]
  },
  {
   "cell_type": "code",
   "execution_count": null,
   "metadata": {
    "colab": {
     "base_uri": "https://localhost:8080/",
     "height": 599
    },
    "id": "c5CW3HdRY7-l",
    "outputId": "e6c9efa6-0590-4461-bc65-cf03d6a6d7f5"
   },
   "outputs": [],
   "source": [
    "print_result_lines_over_img(lines, img)"
   ]
  },
  {
   "cell_type": "code",
   "execution_count": null,
   "metadata": {},
   "outputs": [],
   "source": [
    "print_result_lines_over_img(lines, img_lines)"
   ]
  },
  {
   "cell_type": "code",
   "execution_count": null,
   "metadata": {},
   "outputs": [],
   "source": [
    "print_result_lines_over_img(lines, img_contours)"
   ]
  },
  {
   "cell_type": "code",
   "execution_count": null,
   "metadata": {},
   "outputs": [],
   "source": [
    "calculate_avg_sdas(lines)"
   ]
  },
  {
   "cell_type": "markdown",
   "metadata": {},
   "source": [
    "## Test on all Data and save metrics"
   ]
  },
  {
   "cell_type": "code",
   "execution_count": null,
   "metadata": {
    "scrolled": true
   },
   "outputs": [],
   "source": [
    "results = getResults(test_dir, model, diameter, MAX_POINTS_PER_LINE, MAX_ANGLE_DIFF_REG_P_THRESHOLD,\n",
    "                                REGRESSION_DISTANCE_THRESHOLD, ANGLE_DIFF_THRESHOLD, DISTANCE_THRESHOLD,\n",
    "                                MIN_POINTS_PER_LINE, MICROMETER_PER_PIXEL)"
   ]
  },
  {
   "cell_type": "code",
   "execution_count": null,
   "metadata": {},
   "outputs": [],
   "source": [
    "SDAS_mse, SDAS_rmse, SDAS_mae, SDAS_mape, SDAS_r2 = calculateMetrics(results)"
   ]
  },
  {
   "cell_type": "markdown",
   "metadata": {
    "id": "mDbmmAVJMwfc"
   },
   "source": [
    "## ML-Flow "
   ]
  },
  {
   "cell_type": "code",
   "execution_count": null,
   "metadata": {},
   "outputs": [],
   "source": [
    "import mlflow # mlflow, version 1.23.1\n",
    "import mlflow.keras\n",
    "mlflow.set_experiment(\"SDAS_Prediciton\")\n",
    "mlflow.set_tracking_uri(\"http://127.0.0.1:5000\")\n",
    "\n",
    "with mlflow.start_run(run_name = 'v1_HYBRID'): # change with every run \n",
    "    \n",
    "    # Save hyperparameters\n",
    "    \n",
    "    mlflow.log_params({\n",
    "        'model_type': model_type,\n",
    "        'diameter': diameter,\n",
    "        'MIN_POINTS_PER_LINE': MIN_POINTS_PER_LINE,\n",
    "        'MAX_POINTS_PER_LINE': MAX_POINTS_PER_LINE,\n",
    "        'ANGLE_DIFF_THRESHOLD': ANGLE_DIFF_THRESHOLD,\n",
    "        'DISTANCE_THRESHOLD': DISTANCE_THRESHOLD,\n",
    "        'REGRESSION_DISTANCE_THRESHOLD': REGRESSION_DISTANCE_THRESHOLD,\n",
    "        'MAX_ANGLE_DIFF_REG_P_THRESHOLD': MAX_ANGLE_DIFF_REG_P_THRESHOLD,\n",
    "        'MICROMETER_PER_PIXEL': MICROMETER_PER_PIXEL,\n",
    "        'test_dataset_version': test_dataset_version \n",
    "    }) \n",
    "    \n",
    "    # Save metrics\n",
    "    \n",
    "     mlflow.log_metrics({\n",
    "        'SDAS_Mean Squared Error': SDAS_mse,\n",
    "        'SDAS_Root_Mean Squared Error': SDAS_rmse,\n",
    "        'SDAS_Mean Absolute Percentage Error': SDAS_mape, \n",
    "        'SDAS_Mean Absolute Error': SDAS_mae,\n",
    "        'SDAS_R2-Score': SDAS_r2\n",
    "    }) \n",
    "    \n",
    "    # Save notebook\n",
    "    \n",
    "    mlflow.log_artifact(\"HYBRID_SDAS_Prediction_Pipeline.ipynb\", artifact_path=\"notebooks\") # Name of notebook has to be correct"
   ]
  },
  {
   "cell_type": "code",
   "execution_count": null,
   "metadata": {},
   "outputs": [],
   "source": []
  }
 ],
 "metadata": {
  "accelerator": "GPU",
  "colab": {
   "collapsed_sections": [
    "ldyyGj1g1_cc",
    "qPhlwAht2JlU",
    "RFWMmass2O3p",
    "4iLYLJz32Xyh",
    "xTEPSK-02kJG",
    "5EpjuI35290t"
   ],
   "gpuType": "T4",
   "provenance": []
  },
  "kernelspec": {
   "display_name": "Python 3 (ipykernel)",
   "language": "python",
   "name": "python3"
  },
  "language_info": {
   "codemirror_mode": {
    "name": "ipython",
    "version": 3
   },
   "file_extension": ".py",
   "mimetype": "text/x-python",
   "name": "python",
   "nbconvert_exporter": "python",
   "pygments_lexer": "ipython3",
   "version": "3.12.9"
  }
 },
 "nbformat": 4,
 "nbformat_minor": 4
}
